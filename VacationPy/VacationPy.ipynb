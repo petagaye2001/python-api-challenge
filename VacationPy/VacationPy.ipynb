{
 "cells": [
  {
   "cell_type": "markdown",
   "metadata": {},
   "source": [
    "# VacationPy\n",
    "----\n",
    "\n",
    "#### Note\n",
    "* Keep an eye on your API usage. Use https://developers.google.com/maps/reporting/gmp-reporting as reference for how to monitor your usage and billing.\n",
    "\n",
    "* Instructions have been included for each segment. You do not have to follow them exactly, but they are included to help you think through the steps."
   ]
  },
  {
   "cell_type": "code",
   "execution_count": 25,
   "metadata": {},
   "outputs": [],
   "source": [
    "# Dependencies and Setup\n",
    "import matplotlib.pyplot as plt\n",
    "import pandas as pd\n",
    "import numpy as np\n",
    "import requests\n",
    "import gmaps\n",
    "import os\n",
    "import json\n",
    "import time\n",
    "import datetime\n",
    "from scipy.stats import linregress\n",
    "import api_keys\n",
    "from pprint import pprint\n",
    "\n",
    "\n",
    "# Import API key(from weather and google api)\n",
    "from api_keys import g_key\n",
    "\n",
    "# Incorporated citipy to determine city based on latitude and longitude\n",
    "from citipy import citipy\n",
    "\n"
   ]
  },
  {
   "cell_type": "markdown",
   "metadata": {},
   "source": [
    "### Store Part I results into DataFrame\n",
    "* Load the csv exported in Part I to a DataFrame"
   ]
  },
  {
   "cell_type": "code",
   "execution_count": 26,
   "metadata": {},
   "outputs": [
    {
     "data": {
      "text/html": [
       "<div>\n",
       "<style scoped>\n",
       "    .dataframe tbody tr th:only-of-type {\n",
       "        vertical-align: middle;\n",
       "    }\n",
       "\n",
       "    .dataframe tbody tr th {\n",
       "        vertical-align: top;\n",
       "    }\n",
       "\n",
       "    .dataframe thead th {\n",
       "        text-align: right;\n",
       "    }\n",
       "</style>\n",
       "<table border=\"1\" class=\"dataframe\">\n",
       "  <thead>\n",
       "    <tr style=\"text-align: right;\">\n",
       "      <th></th>\n",
       "      <th>City</th>\n",
       "      <th>Cloudiness</th>\n",
       "      <th>Country</th>\n",
       "      <th>Date</th>\n",
       "      <th>Humidity</th>\n",
       "      <th>Lat</th>\n",
       "      <th>Lng</th>\n",
       "      <th>Max Temp (F)</th>\n",
       "      <th>Wind Speed</th>\n",
       "    </tr>\n",
       "  </thead>\n",
       "  <tbody>\n",
       "    <tr>\n",
       "      <th>0</th>\n",
       "      <td>hilo</td>\n",
       "      <td>90</td>\n",
       "      <td>US</td>\n",
       "      <td>1627242314</td>\n",
       "      <td>85</td>\n",
       "      <td>19.7297</td>\n",
       "      <td>-155.0900</td>\n",
       "      <td>81.81</td>\n",
       "      <td>4.61</td>\n",
       "    </tr>\n",
       "    <tr>\n",
       "      <th>1</th>\n",
       "      <td>jamestown</td>\n",
       "      <td>40</td>\n",
       "      <td>US</td>\n",
       "      <td>1627242056</td>\n",
       "      <td>57</td>\n",
       "      <td>42.0970</td>\n",
       "      <td>-79.2353</td>\n",
       "      <td>85.32</td>\n",
       "      <td>9.73</td>\n",
       "    </tr>\n",
       "    <tr>\n",
       "      <th>2</th>\n",
       "      <td>vaini</td>\n",
       "      <td>20</td>\n",
       "      <td>TO</td>\n",
       "      <td>1627242314</td>\n",
       "      <td>94</td>\n",
       "      <td>-21.2000</td>\n",
       "      <td>-175.2000</td>\n",
       "      <td>68.16</td>\n",
       "      <td>0.00</td>\n",
       "    </tr>\n",
       "    <tr>\n",
       "      <th>3</th>\n",
       "      <td>port alfred</td>\n",
       "      <td>58</td>\n",
       "      <td>ZA</td>\n",
       "      <td>1627242314</td>\n",
       "      <td>43</td>\n",
       "      <td>-33.5906</td>\n",
       "      <td>26.8910</td>\n",
       "      <td>61.18</td>\n",
       "      <td>11.21</td>\n",
       "    </tr>\n",
       "    <tr>\n",
       "      <th>4</th>\n",
       "      <td>dikson</td>\n",
       "      <td>100</td>\n",
       "      <td>RU</td>\n",
       "      <td>1627242310</td>\n",
       "      <td>85</td>\n",
       "      <td>73.5069</td>\n",
       "      <td>80.5464</td>\n",
       "      <td>39.42</td>\n",
       "      <td>14.88</td>\n",
       "    </tr>\n",
       "  </tbody>\n",
       "</table>\n",
       "</div>"
      ],
      "text/plain": [
       "          City  Cloudiness Country        Date  Humidity      Lat       Lng  \\\n",
       "0         hilo          90      US  1627242314        85  19.7297 -155.0900   \n",
       "1    jamestown          40      US  1627242056        57  42.0970  -79.2353   \n",
       "2        vaini          20      TO  1627242314        94 -21.2000 -175.2000   \n",
       "3  port alfred          58      ZA  1627242314        43 -33.5906   26.8910   \n",
       "4       dikson         100      RU  1627242310        85  73.5069   80.5464   \n",
       "\n",
       "   Max Temp (F)  Wind Speed  \n",
       "0         81.81        4.61  \n",
       "1         85.32        9.73  \n",
       "2         68.16        0.00  \n",
       "3         61.18       11.21  \n",
       "4         39.42       14.88  "
      ]
     },
     "execution_count": 26,
     "metadata": {},
     "output_type": "execute_result"
    }
   ],
   "source": [
    "# Load the csv from output data file (Part I)\n",
    "output_file = \"../cities_output2.csv\"\n",
    "\n",
    "\n",
    "# Create DataFrame for output data file from cities/weather (Part I)\n",
    "output_df = pd.read_csv(r'../cities_output2.csv')\n",
    "output_df.head() \n"
   ]
  },
  {
   "cell_type": "markdown",
   "metadata": {},
   "source": [
    "### Humidity Heatmap\n",
    "* Configure gmaps.\n",
    "* Use the Lat and Lng as locations and Humidity as the weight.\n",
    "* Add Heatmap layer to map."
   ]
  },
  {
   "cell_type": "code",
   "execution_count": 27,
   "metadata": {},
   "outputs": [
    {
     "data": {
      "application/vnd.jupyter.widget-view+json": {
       "model_id": "223eb2c8f6754459ae9d4bb3fb2487d3",
       "version_major": 2,
       "version_minor": 0
      },
      "text/plain": [
       "Figure(layout=FigureLayout(height='420px'))"
      ]
     },
     "metadata": {},
     "output_type": "display_data"
    }
   ],
   "source": [
    "# Configure gmaps\n",
    "gmaps.configure(api_key = g_key)\n",
    "\n",
    "# Define locations\n",
    "locations = output_df[[\"Lat\", \"Lng\"]]\n",
    "\n",
    "# Define humidity\n",
    "#humidity = output_df[\"Humidity\"].astype(float)\n",
    "humidity = output_df[\"Humidity\"]\n",
    "\n",
    "#fig = gmaps.figure()\n",
    "fig = gmaps.figure(center=(46.0, -5.0), zoom_level=3)\n",
    "max_intensity = np.max(humidity)\n",
    "\n",
    "# Create heat layer\n",
    "\n",
    "#heatmap_layer = gmaps.heatmap_layer(locations, weights=humidity, dissipating=False, max_intensity=5, point_radius=1)\n",
    "heatmap_layer = gmaps.heatmap_layer(locations, weights = humidity, dissipating=False, max_intensity=100, point_radius=4)\n",
    "\n",
    "fig.add_layer(heatmap_layer)\n",
    "fig"
   ]
  },
  {
   "cell_type": "code",
   "execution_count": 28,
   "metadata": {},
   "outputs": [
    {
     "data": {
      "text/plain": [
       "100"
      ]
     },
     "execution_count": 28,
     "metadata": {},
     "output_type": "execute_result"
    }
   ],
   "source": [
    "max_intensity"
   ]
  },
  {
   "cell_type": "markdown",
   "metadata": {},
   "source": [
    "### Create new DataFrame fitting weather criteria\n",
    "* Narrow down the cities to fit weather conditions.\n",
    "* Drop any rows will null values."
   ]
  },
  {
   "cell_type": "code",
   "execution_count": 30,
   "metadata": {},
   "outputs": [
    {
     "data": {
      "text/html": [
       "<div>\n",
       "<style scoped>\n",
       "    .dataframe tbody tr th:only-of-type {\n",
       "        vertical-align: middle;\n",
       "    }\n",
       "\n",
       "    .dataframe tbody tr th {\n",
       "        vertical-align: top;\n",
       "    }\n",
       "\n",
       "    .dataframe thead th {\n",
       "        text-align: right;\n",
       "    }\n",
       "</style>\n",
       "<table border=\"1\" class=\"dataframe\">\n",
       "  <thead>\n",
       "    <tr style=\"text-align: right;\">\n",
       "      <th></th>\n",
       "      <th>City</th>\n",
       "      <th>Cloudiness</th>\n",
       "      <th>Country</th>\n",
       "      <th>Date</th>\n",
       "      <th>Humidity</th>\n",
       "      <th>Lat</th>\n",
       "      <th>Lng</th>\n",
       "      <th>Max Temp (F)</th>\n",
       "      <th>Wind Speed</th>\n",
       "    </tr>\n",
       "  </thead>\n",
       "  <tbody>\n",
       "    <tr>\n",
       "      <th>0</th>\n",
       "      <td>hilo</td>\n",
       "      <td>90</td>\n",
       "      <td>US</td>\n",
       "      <td>1627242314</td>\n",
       "      <td>85</td>\n",
       "      <td>19.7297</td>\n",
       "      <td>-155.0900</td>\n",
       "      <td>81.81</td>\n",
       "      <td>4.61</td>\n",
       "    </tr>\n",
       "    <tr>\n",
       "      <th>1</th>\n",
       "      <td>jamestown</td>\n",
       "      <td>40</td>\n",
       "      <td>US</td>\n",
       "      <td>1627242056</td>\n",
       "      <td>57</td>\n",
       "      <td>42.0970</td>\n",
       "      <td>-79.2353</td>\n",
       "      <td>85.32</td>\n",
       "      <td>9.73</td>\n",
       "    </tr>\n",
       "    <tr>\n",
       "      <th>2</th>\n",
       "      <td>vaini</td>\n",
       "      <td>20</td>\n",
       "      <td>TO</td>\n",
       "      <td>1627242314</td>\n",
       "      <td>94</td>\n",
       "      <td>-21.2000</td>\n",
       "      <td>-175.2000</td>\n",
       "      <td>68.16</td>\n",
       "      <td>0.00</td>\n",
       "    </tr>\n",
       "    <tr>\n",
       "      <th>3</th>\n",
       "      <td>port alfred</td>\n",
       "      <td>58</td>\n",
       "      <td>ZA</td>\n",
       "      <td>1627242314</td>\n",
       "      <td>43</td>\n",
       "      <td>-33.5906</td>\n",
       "      <td>26.8910</td>\n",
       "      <td>61.18</td>\n",
       "      <td>11.21</td>\n",
       "    </tr>\n",
       "    <tr>\n",
       "      <th>4</th>\n",
       "      <td>dikson</td>\n",
       "      <td>100</td>\n",
       "      <td>RU</td>\n",
       "      <td>1627242310</td>\n",
       "      <td>85</td>\n",
       "      <td>73.5069</td>\n",
       "      <td>80.5464</td>\n",
       "      <td>39.42</td>\n",
       "      <td>14.88</td>\n",
       "    </tr>\n",
       "  </tbody>\n",
       "</table>\n",
       "</div>"
      ],
      "text/plain": [
       "          City  Cloudiness Country        Date  Humidity      Lat       Lng  \\\n",
       "0         hilo          90      US  1627242314        85  19.7297 -155.0900   \n",
       "1    jamestown          40      US  1627242056        57  42.0970  -79.2353   \n",
       "2        vaini          20      TO  1627242314        94 -21.2000 -175.2000   \n",
       "3  port alfred          58      ZA  1627242314        43 -33.5906   26.8910   \n",
       "4       dikson         100      RU  1627242310        85  73.5069   80.5464   \n",
       "\n",
       "   Max Temp (F)  Wind Speed  \n",
       "0         81.81        4.61  \n",
       "1         85.32        9.73  \n",
       "2         68.16        0.00  \n",
       "3         61.18       11.21  \n",
       "4         39.42       14.88  "
      ]
     },
     "execution_count": 30,
     "metadata": {},
     "output_type": "execute_result"
    }
   ],
   "source": [
    "#Define first Dataframe, focusing on Max Temp, Wind Speed, and Cloudines\n",
    "\n",
    "# Create base DataFrame\n",
    "output_df.head()"
   ]
  },
  {
   "cell_type": "markdown",
   "metadata": {},
   "source": [
    "### Hotel Map\n",
    "* Store into variable named `hotel_df`.\n",
    "* Add a \"Hotel Name\" column to the DataFrame.\n",
    "* Set parameters to search for hotels with 5000 meters.\n",
    "* Hit the Google Places API for each city's coordinates.\n",
    "* Store the first Hotel result into the DataFrame.\n",
    "* Plot markers on top of the heatmap."
   ]
  },
  {
   "cell_type": "code",
   "execution_count": null,
   "metadata": {},
   "outputs": [],
   "source": []
  },
  {
   "cell_type": "code",
   "execution_count": null,
   "metadata": {},
   "outputs": [],
   "source": []
  },
  {
   "cell_type": "code",
   "execution_count": null,
   "metadata": {},
   "outputs": [],
   "source": [
    "# NOTE: Do not change any of the code in this cell\n",
    "\n",
    "# Using the template add the hotel marks to the heatmap\n",
    "info_box_template = \"\"\"\n",
    "<dl>\n",
    "<dt>Name</dt><dd>{Hotel Name}</dd>\n",
    "<dt>City</dt><dd>{City}</dd>\n",
    "<dt>Country</dt><dd>{Country}</dd>\n",
    "</dl>\n",
    "\"\"\"\n",
    "# Store the DataFrame Row\n",
    "# NOTE: be sure to update with your DataFrame name\n",
    "hotel_info = [info_box_template.format(**row) for index, row in hotel_df.iterrows()]\n",
    "locations = hotel_df[[\"Lat\", \"Lng\"]]"
   ]
  },
  {
   "cell_type": "code",
   "execution_count": null,
   "metadata": {},
   "outputs": [],
   "source": [
    "# Add marker layer ontop of heat map\n",
    "\n",
    "\n",
    "# Display figure\n"
   ]
  },
  {
   "cell_type": "code",
   "execution_count": null,
   "metadata": {},
   "outputs": [],
   "source": []
  }
 ],
 "metadata": {
  "kernelspec": {
   "display_name": "Python 3",
   "language": "python",
   "name": "python3"
  },
  "language_info": {
   "codemirror_mode": {
    "name": "ipython",
    "version": 3
   },
   "file_extension": ".py",
   "mimetype": "text/x-python",
   "name": "python",
   "nbconvert_exporter": "python",
   "pygments_lexer": "ipython3",
   "version": "3.6.10"
  },
  "latex_envs": {
   "LaTeX_envs_menu_present": true,
   "autoclose": false,
   "autocomplete": true,
   "bibliofile": "biblio.bib",
   "cite_by": "apalike",
   "current_citInitial": 1,
   "eqLabelWithNumbers": true,
   "eqNumInitial": 1,
   "hotkeys": {
    "equation": "Ctrl-E",
    "itemize": "Ctrl-I"
   },
   "labels_anchors": false,
   "latex_user_defs": false,
   "report_style_numbering": false,
   "user_envs_cfg": false
  }
 },
 "nbformat": 4,
 "nbformat_minor": 4
}
